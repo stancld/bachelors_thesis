{
 "cells": [
  {
   "cell_type": "markdown",
   "metadata": {},
   "source": [
    "### 1. Loading libraries and data"
   ]
  },
  {
   "cell_type": "code",
   "execution_count": 1,
   "metadata": {},
   "outputs": [],
   "source": [
    "import numpy as np\n",
    "import pandas as pd\n",
    "import matplotlib.pyplot as plt\n",
    "import seaborn as sns\n",
    "%matplotlib inline"
   ]
  },
  {
   "cell_type": "code",
   "execution_count": 10,
   "metadata": {},
   "outputs": [
    {
     "data": {
      "text/html": [
       "<div>\n",
       "<style scoped>\n",
       "    .dataframe tbody tr th:only-of-type {\n",
       "        vertical-align: middle;\n",
       "    }\n",
       "\n",
       "    .dataframe tbody tr th {\n",
       "        vertical-align: top;\n",
       "    }\n",
       "\n",
       "    .dataframe thead th {\n",
       "        text-align: right;\n",
       "    }\n",
       "</style>\n",
       "<table border=\"1\" class=\"dataframe\">\n",
       "  <thead>\n",
       "    <tr style=\"text-align: right;\">\n",
       "      <th></th>\n",
       "      <th>Unnamed: 0</th>\n",
       "      <th>GSPC.Adjusted</th>\n",
       "      <th>time</th>\n",
       "    </tr>\n",
       "  </thead>\n",
       "  <tbody>\n",
       "    <tr>\n",
       "      <th>0</th>\n",
       "      <td>1</td>\n",
       "      <td>5.031744</td>\n",
       "      <td>1984.500000</td>\n",
       "    </tr>\n",
       "    <tr>\n",
       "      <th>1</th>\n",
       "      <td>2</td>\n",
       "      <td>5.035003</td>\n",
       "      <td>1984.502732</td>\n",
       "    </tr>\n",
       "    <tr>\n",
       "      <th>2</th>\n",
       "      <td>3</td>\n",
       "      <td>5.028868</td>\n",
       "      <td>1984.508197</td>\n",
       "    </tr>\n",
       "    <tr>\n",
       "      <th>3</th>\n",
       "      <td>4</td>\n",
       "      <td>5.025458</td>\n",
       "      <td>1984.510929</td>\n",
       "    </tr>\n",
       "    <tr>\n",
       "      <th>4</th>\n",
       "      <td>5</td>\n",
       "      <td>5.032788</td>\n",
       "      <td>1984.519126</td>\n",
       "    </tr>\n",
       "  </tbody>\n",
       "</table>\n",
       "</div>"
      ],
      "text/plain": [
       "   Unnamed: 0  GSPC.Adjusted         time\n",
       "0           1       5.031744  1984.500000\n",
       "1           2       5.035003  1984.502732\n",
       "2           3       5.028868  1984.508197\n",
       "3           4       5.025458  1984.510929\n",
       "4           5       5.032788  1984.519126"
      ]
     },
     "execution_count": 10,
     "metadata": {},
     "output_type": "execute_result"
    }
   ],
   "source": [
    "data = pd.read_csv('BlackMonday.csv')\n",
    "data.head()"
   ]
  },
  {
   "cell_type": "code",
   "execution_count": 11,
   "metadata": {},
   "outputs": [],
   "source": [
    "data = data.iloc[:,1:]"
   ]
  },
  {
   "cell_type": "code",
   "execution_count": 12,
   "metadata": {
    "scrolled": true
   },
   "outputs": [
    {
     "data": {
      "text/html": [
       "<div>\n",
       "<style scoped>\n",
       "    .dataframe tbody tr th:only-of-type {\n",
       "        vertical-align: middle;\n",
       "    }\n",
       "\n",
       "    .dataframe tbody tr th {\n",
       "        vertical-align: top;\n",
       "    }\n",
       "\n",
       "    .dataframe thead th {\n",
       "        text-align: right;\n",
       "    }\n",
       "</style>\n",
       "<table border=\"1\" class=\"dataframe\">\n",
       "  <thead>\n",
       "    <tr style=\"text-align: right;\">\n",
       "      <th></th>\n",
       "      <th>GSPC.Adjusted</th>\n",
       "      <th>time</th>\n",
       "    </tr>\n",
       "  </thead>\n",
       "  <tbody>\n",
       "    <tr>\n",
       "      <th>0</th>\n",
       "      <td>5.031744</td>\n",
       "      <td>1984.500000</td>\n",
       "    </tr>\n",
       "    <tr>\n",
       "      <th>1</th>\n",
       "      <td>5.035003</td>\n",
       "      <td>1984.502732</td>\n",
       "    </tr>\n",
       "    <tr>\n",
       "      <th>2</th>\n",
       "      <td>5.028868</td>\n",
       "      <td>1984.508197</td>\n",
       "    </tr>\n",
       "    <tr>\n",
       "      <th>3</th>\n",
       "      <td>5.025458</td>\n",
       "      <td>1984.510929</td>\n",
       "    </tr>\n",
       "    <tr>\n",
       "      <th>4</th>\n",
       "      <td>5.032788</td>\n",
       "      <td>1984.519126</td>\n",
       "    </tr>\n",
       "  </tbody>\n",
       "</table>\n",
       "</div>"
      ],
      "text/plain": [
       "   GSPC.Adjusted         time\n",
       "0       5.031744  1984.500000\n",
       "1       5.035003  1984.502732\n",
       "2       5.028868  1984.508197\n",
       "3       5.025458  1984.510929\n",
       "4       5.032788  1984.519126"
      ]
     },
     "execution_count": 12,
     "metadata": {},
     "output_type": "execute_result"
    }
   ],
   "source": [
    "data.head()"
   ]
  },
  {
   "cell_type": "code",
   "execution_count": 98,
   "metadata": {},
   "outputs": [
    {
     "data": {
      "text/plain": [
       "5.81940017210343"
      ]
     },
     "execution_count": 98,
     "metadata": {},
     "output_type": "execute_result"
    }
   ],
   "source": [
    "data['GSPC.Adjusted'].max()"
   ]
  },
  {
   "cell_type": "markdown",
   "metadata": {},
   "source": [
    "### 2. Defining equation for the LPPL model"
   ]
  },
  {
   "cell_type": "code",
   "execution_count": 18,
   "metadata": {},
   "outputs": [],
   "source": [
    "def LPPL(A, B, C1, C2, m, omega, t_c, data):\n",
    "    price_pred = [A + B*(t_c - data[t])**m + \n",
    "                  C1 * ((t_c - data[t])**m) * np.cos(omega * np.log(t_c - data[t])) +\n",
    "                  C2 * ((t_c - data[t])**m) * np.sin(omega * np.log(t_c - data[t])) \n",
    "                  for t in range(data.shape[0])\n",
    "                 ]\n",
    "    return price_pred"
   ]
  },
  {
   "cell_type": "markdown",
   "metadata": {},
   "source": [
    "### 3. Cost function and Jacobian"
   ]
  },
  {
   "cell_type": "code",
   "execution_count": 30,
   "metadata": {},
   "outputs": [],
   "source": [
    "def CostFunction(price, price_pred):\n",
    "    cost = (price - price_pred).sum()"
   ]
  },
  {
   "cell_type": "code",
   "execution_count": 87,
   "metadata": {},
   "outputs": [],
   "source": [
    "def Jacobian(A, B, C1, C2, m, omega, t_c, data):\n",
    "    grad_t_c = np.array([-(B*m*(t_c - data[t])**(m-1) + (C1 * m * (t_c - data[t])**m) * np.cos(omega * np.log(t_c - data[t])) -\n",
    "                  (C1*omega*(t_c - data[t])**m) * np.sin(omega * np.log(t_c - data[t])) +\n",
    "                  (C2 * m * (t_c - data[t])**m) * np.sin(omega * np.log(t_c - data[t])) +\n",
    "                  (C2 * omega * (t_c - data[t])**m) * np.cos(omega * np.log(t_c - data[t]))\n",
    "                 ) \n",
    "                for t in range(data.shape[0])\n",
    "               ]).sum()\n",
    "    \n",
    "    grad_m = np.array([-(B * ((t_c - data[t])**m) * np.log(t_c - data[t]) +\n",
    "                C1 * ((t_c - data[t])**m) * np.log(t_c - data[t]) * np.cos(np.log(t_c - data[t])) +\n",
    "                C2 * ((t_c - data[t])**m) * np.log(t_c - data[t]) * np.sin(np.log(t_c - data[t]))\n",
    "               )\n",
    "             for t in range(data.shape[0])\n",
    "             ]).sum()\n",
    "    \n",
    "    grad_omega = np.array([-(-C1 * ((t_c - data[t])**m) * np.sin(omega * np.log(t_c - data[t])) * np.log(t_c - data[t]) +\n",
    "                    C2 * ((t_c - data[t])**m) * np.cos(omega * np.log(t_c - data[t])) * np.log(t_c - data[t])\n",
    "                   )\n",
    "                 for t in range(data.shape[0])\n",
    "                 ]).sum()\n",
    "    \n",
    "    Jacobian = np.array((grad_t_c, grad_m, grad_omega))\n",
    "    return Jacobian"
   ]
  },
  {
   "cell_type": "code",
   "execution_count": 101,
   "metadata": {},
   "outputs": [
    {
     "data": {
      "text/plain": [
       "(2000.1504732274961, 11052.525953634515, -295.3939435950849)"
      ]
     },
     "execution_count": 101,
     "metadata": {},
     "output_type": "execute_result"
    }
   ],
   "source": [
    "Jacobian = Gradient(A = 5.7, B = -0.7, C1 = 0.5, C2 = 0.5, m = 0.68, omega = 6.5, t_c = 1999, data = np.array(data.time))\n",
    "Jacobian"
   ]
  },
  {
   "cell_type": "markdown",
   "metadata": {},
   "source": [
    "### 4. Definition of Hessian and iterative step"
   ]
  },
  {
   "cell_type": "code",
   "execution_count": 95,
   "metadata": {},
   "outputs": [],
   "source": [
    "def Hessian(Jacobian, mu):\n",
    "    Jacobian = np.array(Jacobian).reshape((1,3))\n",
    "    Hessian = np.linalg.inv((np.matmul(Jacobian.transpose(), Jacobian) + mu * np.identity(3))\n",
    "                           )\n",
    "    \n",
    "    return Hessian"
   ]
  },
  {
   "cell_type": "code",
   "execution_count": 97,
   "metadata": {},
   "outputs": [],
   "source": [
    "def step(t_c, m, omega, Jacobian, Hessian, cost):\n",
    "    Jacobian = np.array(Jacobian).reshape((1,3))\n",
    "    t_c = t_c - np.matmual(Hessian, Jacobian.transpose())[0] * cost\n",
    "    m = m - np.matmual(Hessian, Jacobian.transpose())[1] * cost\n",
    "    omega = omega - np.matmual(Hessian, Jacobian.transpose())[1] * cost\n",
    "    return (t_c, m, omega)"
   ]
  },
  {
   "cell_type": "markdown",
   "metadata": {},
   "source": [
    "### 5. Levenberg-Marquardt algorithm"
   ]
  },
  {
   "cell_type": "code",
   "execution_count": null,
   "metadata": {},
   "outputs": [],
   "source": [
    "def LMA()"
   ]
  }
 ],
 "metadata": {
  "kernelspec": {
   "display_name": "Python 3",
   "language": "python",
   "name": "python3"
  },
  "language_info": {
   "codemirror_mode": {
    "name": "ipython",
    "version": 3
   },
   "file_extension": ".py",
   "mimetype": "text/x-python",
   "name": "python",
   "nbconvert_exporter": "python",
   "pygments_lexer": "ipython3",
   "version": "3.6.8"
  }
 },
 "nbformat": 4,
 "nbformat_minor": 2
}
